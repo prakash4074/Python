{
  "nbformat": 4,
  "nbformat_minor": 0,
  "metadata": {
    "colab": {
      "provenance": [],
      "authorship_tag": "ABX9TyMjE820vr6bw9+/tzywFK8i",
      "include_colab_link": true
    },
    "kernelspec": {
      "name": "python3",
      "display_name": "Python 3"
    },
    "language_info": {
      "name": "python"
    }
  },
  "cells": [
    {
      "cell_type": "markdown",
      "metadata": {
        "id": "view-in-github",
        "colab_type": "text"
      },
      "source": [
        "<a href=\"https://colab.research.google.com/github/prakash4074/Python/blob/main/ReadMe.ipynb\" target=\"_parent\"><img src=\"https://colab.research.google.com/assets/colab-badge.svg\" alt=\"Open In Colab\"/></a>"
      ]
    },
    {
      "cell_type": "code",
      "execution_count": 3,
      "metadata": {
        "colab": {
          "base_uri": "https://localhost:8080/"
        },
        "id": "uVmU9QMzcKYD",
        "outputId": "a21a4fc9-da29-4b6e-aa0b-268e124646f9"
      },
      "outputs": [
        {
          "output_type": "execute_result",
          "data": {
            "text/plain": [
              "24"
            ]
          },
          "metadata": {},
          "execution_count": 3
        }
      ],
      "source": [
        "# prompt: do a 4 factorial\n",
        "# header\n",
        "## sub header\n",
        "import math\n",
        "\n",
        "result = math.factorial(4)\n",
        "result\n"
      ]
    },
    {
      "cell_type": "markdown",
      "source": [
        "This is very important - note please"
      ],
      "metadata": {
        "id": "8wgPr3rRfV8l"
      }
    },
    {
      "cell_type": "markdown",
      "source": [
        "Why was this **not*\\* thought of before"
      ],
      "metadata": {
        "id": "sN3nhKeKfaI3"
      }
    },
    {
      "cell_type": "code",
      "source": [],
      "metadata": {
        "id": "3TmPHjf2fjBH"
      },
      "execution_count": null,
      "outputs": []
    },
    {
      "cell_type": "code",
      "source": [
        "# prompt: create a vector database of a excel file\n",
        "\n",
        "!pip install pandas\n",
        "!pip install chromadb\n",
        "\n",
        "import pandas as pd\n",
        "import chromadb\n",
        "\n",
        "# Assuming your Excel file is named 'your_excel_file.xlsx' and the sheet name is 'Sheet1'\n",
        "try:\n",
        "    df = pd.read_excel('your_excel_file.xlsx', sheet_name='Sheet1')\n",
        "except FileNotFoundError:\n",
        "    print(\"Error: 'your_excel_file.xlsx' not found. Please upload the file or provide the correct path.\")\n",
        "    exit()\n",
        "except Exception as e:\n",
        "    print(f\"An error occurred while reading the Excel file: {e}\")\n",
        "    exit()\n",
        "\n",
        "\n",
        "# Create a ChromaDB client\n",
        "client = chromadb.Client()\n",
        "\n",
        "# Create a new collection\n",
        "collection = client.create_collection(name=\"excel_data\")\n",
        "\n",
        "\n",
        "# Add the data to the collection\n",
        "try:\n",
        "  collection.add(\n",
        "      documents=df['your_text_column'].tolist(), # Replace 'your_text_column' with the actual column name containing text\n",
        "      metadatas=df.to_dict(orient=\"records\"), # Use all columns for metadata\n",
        "      ids=df.index.astype(str).tolist(), # Use dataframe index as ids\n",
        "  )\n",
        "  print(\"Successfully added data to the vector database.\")\n",
        "\n",
        "except KeyError as e:\n",
        "  print(f\"Error: Column '{e}' not found in the DataFrame. Please replace 'your_text_column' with a valid column name.\")\n",
        "except Exception as e:\n",
        "  print(f\"An error occurred while adding data to the database: {e}\")\n"
      ],
      "metadata": {
        "id": "DrXyGAy-fl2m"
      },
      "execution_count": null,
      "outputs": []
    },
    {
      "cell_type": "code",
      "source": [],
      "metadata": {
        "id": "dVXYrE6i5Ad6"
      },
      "execution_count": null,
      "outputs": []
    },
    {
      "cell_type": "code",
      "source": [],
      "metadata": {
        "id": "NG04Lx0QnUKN"
      },
      "execution_count": null,
      "outputs": []
    },
    {
      "cell_type": "code",
      "source": [
        "ram = 4\n",
        "var = 'what?'\n",
        "print('The value of RAM is', ram)\n",
        "print('The value of var is'+ var)\n",
        "#print('The value of var is'+ var , sep(''))"
      ],
      "metadata": {
        "colab": {
          "base_uri": "https://localhost:8080/"
        },
        "id": "VQoZZKaA4RPc",
        "outputId": "7654e7f8-5950-4fa0-c252-984b2aede164"
      },
      "execution_count": 12,
      "outputs": [
        {
          "output_type": "stream",
          "name": "stdout",
          "text": [
            "The value of RAM is 4\n",
            "The value of var iswhat?\n"
          ]
        }
      ]
    },
    {
      "cell_type": "code",
      "source": [
        "a= True\n",
        "type(a)\n",
        "\n"
      ],
      "metadata": {
        "colab": {
          "base_uri": "https://localhost:8080/"
        },
        "id": "FuElp6K6nVVa",
        "outputId": "e548f325-af76-4dc0-9c32-9e720e707875"
      },
      "execution_count": 4,
      "outputs": [
        {
          "output_type": "execute_result",
          "data": {
            "text/plain": [
              "bool"
            ]
          },
          "metadata": {},
          "execution_count": 4
        }
      ]
    },
    {
      "cell_type": "code",
      "source": [
        "list1 = ['start', 'stop', 'go']\n",
        "print('this is of type ' + str(type(list1)) + ' ' + list1[0])\n",
        "list1[1] = 'dontstop'\n",
        "print(list1)\n",
        "list2 = ('come', 'go', 'stay')\n",
        "list1 = ['start', 'stop', 'go']\n",
        "print('this is of type ' + str(type(list1)) + ' ' + list1[0])\n",
        "list1[1] = 'dontstop'\n",
        "print(list1)\n",
        "list2 = ('come', 'go', 'stay')\n",
        "print(type(list2))\n",
        "\n",
        "map = {'x':'sss', 'y':'dddsdf'}\n",
        "print('Now ' + str(map))"
      ],
      "metadata": {
        "colab": {
          "base_uri": "https://localhost:8080/"
        },
        "id": "viHWVRP5n0n5",
        "outputId": "f1a25c5d-b2f1-48c3-ef9c-1b40addfbff5"
      },
      "execution_count": 29,
      "outputs": [
        {
          "output_type": "stream",
          "name": "stdout",
          "text": [
            "this is of type <class 'list'> start\n",
            "['start', 'dontstop', 'go']\n",
            "this is of type <class 'list'> start\n",
            "['start', 'dontstop', 'go']\n",
            "<class 'tuple'>\n",
            "Now {'x': 'sss', 'y': 'dddsdf'}\n"
          ]
        }
      ]
    },
    {
      "cell_type": "code",
      "source": [
        "print(list(range(0,10)))"
      ],
      "metadata": {
        "colab": {
          "base_uri": "https://localhost:8080/",
          "height": 141
        },
        "id": "itj3NPT_zeEv",
        "outputId": "3e13e922-f3a6-4cea-8e75-7ca19611faa7"
      },
      "execution_count": 30,
      "outputs": [
        {
          "output_type": "error",
          "ename": "TypeError",
          "evalue": "'tuple' object is not callable",
          "traceback": [
            "\u001b[0;31m---------------------------------------------------------------------------\u001b[0m",
            "\u001b[0;31mTypeError\u001b[0m                                 Traceback (most recent call last)",
            "\u001b[0;32m<ipython-input-30-0956b40e4fcb>\u001b[0m in \u001b[0;36m<cell line: 0>\u001b[0;34m()\u001b[0m\n\u001b[0;32m----> 1\u001b[0;31m \u001b[0mprint\u001b[0m\u001b[0;34m(\u001b[0m\u001b[0mlist\u001b[0m\u001b[0;34m(\u001b[0m\u001b[0mrange\u001b[0m\u001b[0;34m(\u001b[0m\u001b[0;36m0\u001b[0m\u001b[0;34m,\u001b[0m\u001b[0;36m10\u001b[0m\u001b[0;34m)\u001b[0m\u001b[0;34m)\u001b[0m\u001b[0;34m)\u001b[0m\u001b[0;34m\u001b[0m\u001b[0;34m\u001b[0m\u001b[0m\n\u001b[0m",
            "\u001b[0;31mTypeError\u001b[0m: 'tuple' object is not callable"
          ]
        }
      ]
    },
    {
      "cell_type": "code",
      "source": [
        "print('This is the end', list1)"
      ],
      "metadata": {
        "colab": {
          "base_uri": "https://localhost:8080/"
        },
        "id": "l1eDAeOSzy9x",
        "outputId": "c3113283-43d8-466e-e63e-5d71f9921fbd"
      },
      "execution_count": 37,
      "outputs": [
        {
          "output_type": "stream",
          "name": "stdout",
          "text": [
            "This is the end ['start', 'dontstop', 'go']\n"
          ]
        }
      ]
    },
    {
      "cell_type": "code",
      "source": [
        "list_1 = [1, 2, 3, 4, 5]\n",
        "list_comp = [i for i in list_1]\n",
        "print(list_comp , '\\n')"
      ],
      "metadata": {
        "colab": {
          "base_uri": "https://localhost:8080/"
        },
        "id": "f3tVBgz2kAhs",
        "outputId": "1c7cc55e-7b11-47f7-ab9a-4aa683227c0a"
      },
      "execution_count": 5,
      "outputs": [
        {
          "output_type": "stream",
          "name": "stdout",
          "text": [
            "[1, 2, 3, 4, 5] \n",
            "\n"
          ]
        }
      ]
    }
  ]
}